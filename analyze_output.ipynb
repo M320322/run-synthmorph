{
 "cells": [
  {
   "cell_type": "code",
   "execution_count": 1,
   "id": "afcaddaf",
   "metadata": {},
   "outputs": [],
   "source": [
    "from pathlib import Path\n",
    "import pandas as pd\n",
    "import numpy as np\n",
    "import yaml\n",
    "import nibabel as nib"
   ]
  },
  {
   "cell_type": "code",
   "execution_count": 2,
   "id": "6cfdeaf0",
   "metadata": {},
   "outputs": [],
   "source": [
    "with open(Path(\"./config/config.yaml\"), \"r\") as f:\n",
    "    config = yaml.safe_load(f)\n",
    "\n",
    "path_output = Path(config[\"path_output\"]).absolute()\n",
    "path_atlas = Path(config[\"path_atlas\"]).absolute()\n",
    "path_parcellation = Path(config[\"path_parcellation\"]).absolute()\n",
    "path_labels = Path(config[\"path_labels\"]).absolute()\n",
    "path_trans_seg = path_output / \"transformed_seg\""
   ]
  },
  {
   "cell_type": "code",
   "execution_count": 3,
   "id": "b5e5a07c",
   "metadata": {},
   "outputs": [],
   "source": [
    "def load_labels(label_file, index_col=0, description_col=1):\n",
    "    df = pd.read_csv(label_file, header=None, delimiter=\" \")\n",
    "    # df = pd.read_excel(label_file)\n",
    "    labels = dict(zip(df.iloc[:, index_col], df.iloc[:, description_col]))\n",
    "    return labels"
   ]
  },
  {
   "cell_type": "code",
   "execution_count": 4,
   "id": "8a29b0b7",
   "metadata": {},
   "outputs": [],
   "source": [
    "labels = load_labels(path_labels)"
   ]
  },
  {
   "cell_type": "code",
   "execution_count": 5,
   "id": "3d40f8b3",
   "metadata": {},
   "outputs": [],
   "source": [
    "atlas = nib.load(path_atlas)\n",
    "atlas_data = atlas.get_fdata().astype(int)"
   ]
  },
  {
   "cell_type": "code",
   "execution_count": 6,
   "id": "a89f1947",
   "metadata": {},
   "outputs": [],
   "source": [
    "def analyze_tumor_locations(tumor_seg_path, atlas_data, labels_dict):\n",
    "    tumor_img = nib.load(tumor_seg_path)\n",
    "    tumor_data = tumor_img.get_fdata().astype(int)\n",
    "\n",
    "    tumor_mask = (tumor_data > 0).astype(bool)\n",
    "    total_tumor_voxels = np.sum(tumor_mask)\n",
    "\n",
    "    if total_tumor_voxels == 0:\n",
    "        return {}\n",
    "\n",
    "    location_counts = {}\n",
    "\n",
    "    for label_value, region_name in labels_dict.items():\n",
    "        region_mask = atlas_data == label_value\n",
    "        overlap = np.sum(tumor_mask & region_mask)\n",
    "        if overlap > 0:\n",
    "            percentage = (overlap / total_tumor_voxels) * 100\n",
    "            location_counts[region_name] = percentage\n",
    "\n",
    "    return location_counts"
   ]
  },
  {
   "cell_type": "code",
   "execution_count": 7,
   "id": "6f265890",
   "metadata": {},
   "outputs": [],
   "source": [
    "results = []\n",
    "\n",
    "if path_trans_seg.exists():\n",
    "    for tumor_file in path_trans_seg.glob(\"*.nii.gz\"):\n",
    "        tumor_name = tumor_file.stem.replace(\".nii\", \"\")\n",
    "\n",
    "        locations = analyze_tumor_locations(tumor_file, atlas_data, labels)\n",
    "\n",
    "        results.append(\n",
    "            {\n",
    "                \"tumor_file\": tumor_name,\n",
    "                \"locations\": locations,\n",
    "            }\n",
    "        )\n",
    "else:\n",
    "    print(f\"Transformed segmentation directory not found: {path_trans_seg}\")"
   ]
  },
  {
   "cell_type": "code",
   "execution_count": 8,
   "id": "bde6d3b0",
   "metadata": {},
   "outputs": [],
   "source": [
    "df = pd.DataFrame(\n",
    "    [\n",
    "        {\"tumor_file\": r[\"tumor_file\"], \"location\": loc, \"percentage\": pct}\n",
    "        for r in results\n",
    "        for loc, pct in r[\"locations\"].items()\n",
    "    ]\n",
    ")"
   ]
  },
  {
   "cell_type": "code",
   "execution_count": 9,
   "id": "8357ba65",
   "metadata": {},
   "outputs": [
    {
     "data": {
      "text/html": [
       "<div>\n",
       "<style scoped>\n",
       "    .dataframe tbody tr th:only-of-type {\n",
       "        vertical-align: middle;\n",
       "    }\n",
       "\n",
       "    .dataframe tbody tr th {\n",
       "        vertical-align: top;\n",
       "    }\n",
       "\n",
       "    .dataframe thead th {\n",
       "        text-align: right;\n",
       "    }\n",
       "</style>\n",
       "<table border=\"1\" class=\"dataframe\">\n",
       "  <thead>\n",
       "    <tr style=\"text-align: right;\">\n",
       "      <th></th>\n",
       "      <th>tumor_file</th>\n",
       "      <th>location</th>\n",
       "      <th>percentage</th>\n",
       "    </tr>\n",
       "  </thead>\n",
       "  <tbody>\n",
       "    <tr>\n",
       "      <th>141</th>\n",
       "      <td>C1072314_305_SegmWT</td>\n",
       "      <td>ctx-rh-lingual</td>\n",
       "      <td>6.999004</td>\n",
       "    </tr>\n",
       "    <tr>\n",
       "      <th>142</th>\n",
       "      <td>C1072314_305_SegmWT</td>\n",
       "      <td>ctx-rh-medialorbitofrontal</td>\n",
       "      <td>6.700082</td>\n",
       "    </tr>\n",
       "    <tr>\n",
       "      <th>140</th>\n",
       "      <td>C1072314_305_SegmWT</td>\n",
       "      <td>ctx-rh-lateralorbitofrontal</td>\n",
       "      <td>6.235092</td>\n",
       "    </tr>\n",
       "    <tr>\n",
       "      <th>59</th>\n",
       "      <td>C1031970_225_SegmWT</td>\n",
       "      <td>ctx-lh-transversetemporal</td>\n",
       "      <td>4.868340</td>\n",
       "    </tr>\n",
       "    <tr>\n",
       "      <th>57</th>\n",
       "      <td>C1031970_225_SegmWT</td>\n",
       "      <td>ctx-lh-frontalpole</td>\n",
       "      <td>4.717105</td>\n",
       "    </tr>\n",
       "    <tr>\n",
       "      <th>58</th>\n",
       "      <td>C1031970_225_SegmWT</td>\n",
       "      <td>ctx-lh-temporalpole</td>\n",
       "      <td>4.701392</td>\n",
       "    </tr>\n",
       "    <tr>\n",
       "      <th>60</th>\n",
       "      <td>C1031970_225_SegmWT</td>\n",
       "      <td>ctx-lh-insula</td>\n",
       "      <td>4.656872</td>\n",
       "    </tr>\n",
       "    <tr>\n",
       "      <th>139</th>\n",
       "      <td>C1072314_305_SegmWT</td>\n",
       "      <td>ctx-rh-lateraloccipital</td>\n",
       "      <td>4.589511</td>\n",
       "    </tr>\n",
       "    <tr>\n",
       "      <th>61</th>\n",
       "      <td>C1031970_225_SegmWT</td>\n",
       "      <td>ctx-rh-bankssts</td>\n",
       "      <td>4.187453</td>\n",
       "    </tr>\n",
       "    <tr>\n",
       "      <th>56</th>\n",
       "      <td>C1031970_225_SegmWT</td>\n",
       "      <td>ctx-lh-supramarginal</td>\n",
       "      <td>4.138351</td>\n",
       "    </tr>\n",
       "  </tbody>\n",
       "</table>\n",
       "</div>"
      ],
      "text/plain": [
       "              tumor_file                     location  percentage\n",
       "141  C1072314_305_SegmWT               ctx-rh-lingual    6.999004\n",
       "142  C1072314_305_SegmWT   ctx-rh-medialorbitofrontal    6.700082\n",
       "140  C1072314_305_SegmWT  ctx-rh-lateralorbitofrontal    6.235092\n",
       "59   C1031970_225_SegmWT    ctx-lh-transversetemporal    4.868340\n",
       "57   C1031970_225_SegmWT           ctx-lh-frontalpole    4.717105\n",
       "58   C1031970_225_SegmWT          ctx-lh-temporalpole    4.701392\n",
       "60   C1031970_225_SegmWT                ctx-lh-insula    4.656872\n",
       "139  C1072314_305_SegmWT      ctx-rh-lateraloccipital    4.589511\n",
       "61   C1031970_225_SegmWT              ctx-rh-bankssts    4.187453\n",
       "56   C1031970_225_SegmWT         ctx-lh-supramarginal    4.138351"
      ]
     },
     "execution_count": 9,
     "metadata": {},
     "output_type": "execute_result"
    }
   ],
   "source": [
    "df.sort_values(by=\"percentage\", ascending=False).head(10)"
   ]
  },
  {
   "cell_type": "code",
   "execution_count": 10,
   "id": "6b635ba5",
   "metadata": {},
   "outputs": [],
   "source": [
    "pivot = df.pivot(index=\"tumor_file\", columns=\"location\", values=\"percentage\").fillna(0)"
   ]
  },
  {
   "cell_type": "code",
   "execution_count": 11,
   "id": "226b4aa1",
   "metadata": {},
   "outputs": [
    {
     "name": "stdout",
     "output_type": "stream",
     "text": [
      "Results saved to c:\\Users\\m\\Documents\\run-synthmorph\\output\\analysis_output\n"
     ]
    }
   ],
   "source": [
    "analysis_output = path_output / \"analysis_output\"\n",
    "analysis_output.mkdir(parents=True, exist_ok=True)\n",
    "\n",
    "pivot.to_csv(analysis_output / \"locations.csv\")\n",
    "\n",
    "print(f\"Results saved to {analysis_output}\")"
   ]
  }
 ],
 "metadata": {
  "kernelspec": {
   "display_name": "run-synthmorph (3.13.5)",
   "language": "python",
   "name": "python3"
  },
  "language_info": {
   "codemirror_mode": {
    "name": "ipython",
    "version": 3
   },
   "file_extension": ".py",
   "mimetype": "text/x-python",
   "name": "python",
   "nbconvert_exporter": "python",
   "pygments_lexer": "ipython3",
   "version": "3.13.5"
  }
 },
 "nbformat": 4,
 "nbformat_minor": 5
}
